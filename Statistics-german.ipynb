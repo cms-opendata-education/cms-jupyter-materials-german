{
 "cells": [
  {
   "cell_type": "markdown",
   "metadata": {},
   "source": [
    "# Statistik mit CMS Open Data"
   ]
  },
  {
   "cell_type": "markdown",
   "metadata": {},
   "source": [
    "Mit Python können leicht statistische Werte der CMS Daten berechnet werden. In diesem Jupyter Notebook lernen wir, wie Mittelwert $\\bar x$, Varianz $\\sigma^2$ und Standardabweichung $\\sigma$ berechnet werden.\n",
    "\n",
    "Wir werden dazu echte Teilchenphysikdaten benutzen, die am CMS Experiment aufgenommen wurden. In der Datei _Jpsimumu_\\__Run2011A.csv_ befinden sich ausgewählte Ereignisse der CMS Primärdateien [1] mit den spezifischen Eigenschaften [2].\n",
    "\n",
    "Beginnen wir die Berechnung damit, die benötigten Python-Module zu importieren und die Daten zu laden.\n",
    "<br>\n",
    "<br>\n",
    "<br>\n",
    "[1] CMS collaboration (2016). DoubleMu primary dataset in AOD format from RunA of 2011 (/DoubleMu/Run2011A-12Oct2013-v1/AOD). CERN Open Data Portal. DOI: [10.7483/OPENDATA.CMS.RZ34.QR6N](http://doi.org/10.7483/OPENDATA.CMS.RZ34.QR6N).\n",
    "<br>\n",
    "[2] Thomas McCauley (2016). Jpsimumu. Jupyter Notebook file. https://github.com/tpmccauley/cmsopendata-jupyter/blob/hst-0.1/Jpsimumu.ipynb."
   ]
  },
  {
   "cell_type": "markdown",
   "metadata": {},
   "source": [
    "### Import der Module und plotten des Histogramms"
   ]
  },
  {
   "cell_type": "markdown",
   "metadata": {},
   "source": [
    "Beginnen wir mit einigen grundlegenden Einstellungen für Python:"
   ]
  },
  {
   "cell_type": "code",
   "execution_count": null,
   "metadata": {
    "collapsed": true
   },
   "outputs": [],
   "source": [
    "# Import the needed modules. Pandas is for the data-analysis, numpy for scientific calculation\n",
    "# and matplotlib.pyplot for making plots. Modules are named as pd, np and plt.\n",
    "import pandas as pd\n",
    "import numpy as np\n",
    "import matplotlib.pyplot as plt\n",
    "\n",
    "# Jupyter Notebook uses \"magic functions\". With this function it is possible to plot\n",
    "# the histogram straight to notebook.\n",
    "%matplotlib inline\n",
    "\n",
    "# Create a new DataFrame structure from the file \"Jpsimumu_Run2011A.csv\"\n",
    "dataset = pd.read_csv('Data/Jpsimumu_Run2011A.csv')\n",
    "\n",
    "# Create a Series structure (basically a list) and name it to \"inv_mass\".\n",
    "# Save the column \"M\" from the \"dataset\" to the variable \"inv_mass\".\n",
    "inv_mass = dataset['M']"
   ]
  },
  {
   "cell_type": "markdown",
   "metadata": {},
   "source": [
    "<br>\n",
    "Nun plotten wir das Histogramm der Invarianten Masse aus unserem Datensatz:"
   ]
  },
  {
   "cell_type": "code",
   "execution_count": null,
   "metadata": {},
   "outputs": [],
   "source": [
    "plt.hist(inv_mass, bins=500)\n",
    "plt.show()"
   ]
  },
  {
   "cell_type": "markdown",
   "metadata": {},
   "source": [
    "### Mittelwert $\\bar x$"
   ]
  },
  {
   "cell_type": "markdown",
   "metadata": {},
   "source": [
    "Der Mittelwert kann einfach mit der Funktion _mean( )_ aus dem Modul _numpy_ berechnet werden.\n",
    "Berechnen wir den Mittelwert der Invarianten Masse:"
   ]
  },
  {
   "cell_type": "code",
   "execution_count": null,
   "metadata": {},
   "outputs": [],
   "source": [
    "mean_masses = np.mean(inv_mass)\n",
    "print(mean_masses)"
   ]
  },
  {
   "cell_type": "markdown",
   "metadata": {},
   "source": [
    "### Varianz $\\sigma^2$"
   ]
  },
  {
   "cell_type": "markdown",
   "metadata": {},
   "source": [
    "Die Varianz berechnet sich nach folgender Gleichung:\n",
    "\n",
    "$$\\sigma^2 = \\frac{\\sum_{i=1}^{n}(x_i-\\bar{x})^2}{n}.$$\n",
    "\n",
    "Mit Python lässt sich die Varianz mit der Funktion _var( )_ aus dem Modul _numpy_ berechnen.\n",
    "Versuchen wir es einmal:"
   ]
  },
  {
   "cell_type": "code",
   "execution_count": null,
   "metadata": {},
   "outputs": [],
   "source": [
    "variance = np.var(inv_mass)\n",
    "print(variance)"
   ]
  },
  {
   "cell_type": "markdown",
   "metadata": {},
   "source": [
    "### Standard Abweichung $\\sigma$"
   ]
  },
  {
   "cell_type": "markdown",
   "metadata": {},
   "source": [
    "Da die Standardabweichung die Wurzel der Varianz ist, können wir sie in Python mit der Funktion _sqrt( )_ aus dem Modul _numpy_ berechnen. Die Funktion _sqrt( )_ berechnet die Quadratwurzel eines gegebenen Wertes."
   ]
  },
  {
   "cell_type": "code",
   "execution_count": null,
   "metadata": {},
   "outputs": [],
   "source": [
    "sd = np.sqrt(variance)\n",
    "print(sd)"
   ]
  }
 ],
 "metadata": {
  "kernelspec": {
   "display_name": "Python 3",
   "language": "python",
   "name": "python3"
  },
  "language_info": {
   "codemirror_mode": {
    "name": "ipython",
    "version": 3
   },
   "file_extension": ".py",
   "mimetype": "text/x-python",
   "name": "python",
   "nbconvert_exporter": "python",
   "pygments_lexer": "ipython3",
   "version": "3.6.1"
  }
 },
 "nbformat": 4,
 "nbformat_minor": 1
}
