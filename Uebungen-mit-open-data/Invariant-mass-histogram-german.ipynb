{
 "cells": [
  {
   "cell_type": "markdown",
   "metadata": {},
   "source": [
    "### Hintergrund"
   ]
  },
  {
   "cell_type": "markdown",
   "metadata": {},
   "source": [
    "Dieses Arbeitsblatt zeigt, wie die Anzahl der verwendeten Daten das Histogramm beeinflusst, welches aus diesen Daten erstellt wird. Die Übung besteht aus einem theoretischen und einem praktischen Teil."
   ]
  },
  {
   "cell_type": "markdown",
   "metadata": {},
   "source": [
    "# Beispiel: Histogramm der Invarianten Masse oder Schwerpunktsenergie"
   ]
  },
  {
   "cell_type": "markdown",
   "metadata": {},
   "source": [
    "In dieser Übung werden der CMS (Compact Muon Solenoid) Detektor und das Konzept der Invarianten Masse (auch Schwerpunktsenergie genannt) eingeführt. Mit Hilfe von echten Daten des CMS Detektors wird beobachtet, wie die Anzahl der verwendeten Daten das Histogramm beeinflusst."
   ]
  },
  {
   "cell_type": "markdown",
   "metadata": {},
   "source": [
    "### CMS detector"
   ]
  },
  {
   "cell_type": "markdown",
   "metadata": {},
   "source": [
    "Im LHC (Large Hadron Collider) am CERN werden Teilchen beschleunigt und zur Kollision gebracht.\n",
    "Im CMS Detektor werden die neuen Teilchen beobachtet und gemessen, die bei einer solchen Kollision entstehen. Das Bild unten zeigt den geöffneten CMS Detektor.\n",
    "\n",
    "<img src=\"Images/CMS_avattu.jpg\" alt=\"CMS-ilmaisin avattuna\" style=\"height: 400px\">\n",
    "\n",
    "(Bild: Domenico Salvagnin, https://commons.wikimedia.org/wiki/File:CMS@CERN.jpg)\n",
    "<br>\n",
    "<br>\n",
    "<br>"
   ]
  },
  {
   "cell_type": "markdown",
   "metadata": {},
   "source": [
    "### Invariante Masse"
   ]
  },
  {
   "cell_type": "markdown",
   "metadata": {},
   "source": [
    "Die Invariante Masse $M$ ist ein Wert, der aus den Messungen des CMS Detektors berechnet werden kann. Bei der Invarianten Masse handelt es sich um ein mathematisches Konzept und nicht um eine physikalische Masse.\n",
    "\n",
    "Nehmen wir zum Beispiel einen $Partikel$, der in zwei $Partikel$ zerfällt. Die Invariante Masse $M$ der  Zerfallsprodukte ($Partikel_1$ und $Partikel_2$) berechnet sich dann nach folgender Formel:\n",
    "\n",
    "$$ M = \\sqrt{(E_1 + E_2)^2-(\\vec{p_1} + \\vec{p_2})^2}, $$\n",
    "\n",
    "Dabei sind $E_1$ und $E_2$ die Energien der Zerfallsprodukte und $\\vec{p_1}$ und $\\vec{p_2}$ sind die zugehörigen Impulse. \n",
    "\n",
    "Die Invariante Masse kann benutzt werden, um die Existenz des ursprünglichen $Partikels$ nachzuweisen. Handelt es sich bei $Partikel_1$ und $Partikel_2$ tatsächlich um Zerfallsprodukte, so hatte der ursprüngliche $Partikel$ eben jene Invariante Massse. Stammen $Partikel_1$ und $Partikel_2$ aber aus einem anderen der zahlreichen Prozesse, die bei einer Kollision auftreten, so ist die Invariante Masse etwas anderes.\n",
    "\n",
    "Durch die Bestimmung der Energieen und Impulse der Zerfallsprodukte kann also deren Invariante Masse berechnet werden. Dies kann für eine grosse Anzahl von Teilchenpaaren durchgeführt werden. Dadurch ist es prinzipiell möglich, die Existenz des ursprünglichen $Partikels$ nachzuweisen.\n",
    "\n",
    "In dieser Übung sind die Invarianten Massen bereits vorab berechnet worden."
   ]
  },
  {
   "cell_type": "markdown",
   "metadata": {},
   "source": [
    "### Los geht's!"
   ]
  },
  {
   "cell_type": "markdown",
   "metadata": {},
   "source": [
    "Beginnen wir damit, echte Daten zu beobachten, die am CMS Detektor aufgenommen wurden. Wir legen unseren Fokus dabei auf den Zerfall des Z-Bosons in zwei Muonen (Muon und Antimuon).\n",
    "\n",
    "Wir benutzen Daten die im Jahr 2011 gesammelt wurden [1]. Aus dem Datensatz wurden 10851 Zusamenstöße ausgewählt, bei denen exakt zwei Muonen beobachtet wurden und in die Datei \"Zmumu_Run2011A_masses.csv\" geschrieben. (Der Code, mit dem die Auswahl getroffen wurde ist offentlich zugänglich unter https://github.com/tpmccauley/dimuon-filter.) \n",
    "\n",
    "Die Datei enthält fertig berechnete Werte der Invarianten Masse $M$ der beiden Muonen für die 10851 Ereignisse. Ein gutes Werkzeug um diese Werte darzustellen ist ein Histogramm. Das Histogramm zeigt, wie viele Werte von $M$ in einem bestimmten Bereich gemessen wurden.\n",
    "\n",
    "In dieser Übung ist unser Ziel zu untersuchen __wie die Anzahl der verwendeten Daten das Histogramm beeinflusst, welches aus diesen Daten erstellt wird.__\n",
    "<br>\n",
    "<br>\n",
    "<br>\n",
    "[1]  CMS collaboration (2016). DoubleMu primary dataset in AOD format from RunA of 2011 (/DoubleMu/Run2011A-12Oct2013-v1/AOD). CERN Open Data Portal. DOI: [10.7483/OPENDATA.CMS.RZ34.QR6N](http://doi.org/10.7483/OPENDATA.CMS.RZ34.QR6N)."
   ]
  },
  {
   "cell_type": "markdown",
   "metadata": {},
   "source": [
    "### 1) Einbinden der Datei und der Massen"
   ]
  },
  {
   "cell_type": "markdown",
   "metadata": {},
   "source": [
    "Beginnen wir mit dem Code, der die benötigten Python Module importiert und die Datei einbindet. Schau dir zunächste den Code und die Kommentare an. Starte dann den Code, indem du zunächst die Zelle durch einen Mausklick aktivierst und dann die Tasten _CTRL_ + _Enter_ drückst. Danach kannst du mit Teil 2 fortfahren.\n",
    "(Es kann sein, dass du eine Warnung bezüglich des _matplotlib_ Moduls erhältst, aber darum brauchst du dich nicht zu kümmern.)"
   ]
  },
  {
   "cell_type": "code",
   "execution_count": null,
   "metadata": {
    "collapsed": true
   },
   "outputs": [],
   "source": [
    "# Import benötigter Module. Pandas ist für die Datenanalyse, numpy für wissenschaftliche \n",
    "# Berechnungen und matplotlib.pyplot zum erstellen von plots. \n",
    "# Modules werden umbenannt in pd, np und plt.\n",
    "import pandas as pd\n",
    "import numpy as np\n",
    "import matplotlib.pyplot as plt\n",
    "\n",
    "# Erstelle eine neue DataFrame Struktur für die Datei \"Zmumu_Run2011A_masses.csv\"\n",
    "dataset = pd.read_csv('Data/Zmumu_Run2011A_masses.csv')\n",
    "\n",
    "# Erstelle eine Struktur (im Wesentlichen eine Liste) und nenne sie \"invariant_mass\".\n",
    "# Speichere die Spalte \"M\" aus \"dataset\" in die Varable \"invariant_mass\".\n",
    "invariant_mass = dataset['M']\n",
    "\n",
    "# Erstelle eine leere Liste \"elected\", in die die gewünschte Anzahl\n",
    "# Invarianter Massen gespeichert wird.\n",
    "selected = []"
   ]
  },
  {
   "cell_type": "markdown",
   "metadata": {},
   "source": [
    "### 2) Auswahl der Anzahl verwendeter Daten"
   ]
  },
  {
   "cell_type": "markdown",
   "metadata": {},
   "source": [
    "Der Code unten fragt zunächst, wie viel Ereignisse für das Histogramm verwendet werden sollen. Anschließend erstellt der Code das Histogramm der Invarianten Massen für die gewählte Anzahl an Ereignissen.\n",
    "\n",
    "Starte den Code indem du zunächst die Zelle durch einen Mausklick aktivierst und dann die Tasten _CTRL_ + _Enter_ drückst. Du kannst den Code dann erneut ausführen und die Anzahl verwendeter Daten ändern.\n",
    "\n",
    "Untersuche, wie die Anzahl verwendeter Daten das Histogramm beeinflusst. Welcher Wert der Invarianten Masse erscheint am häufigsten? Was kannst du aus diesen Werten schließen?\n",
    "\n",
    "Untersuche den Code und überlege was passiert, wenn du eine Zahl größer als 10851 eingibst, wenn du nach der Anzahl gefragt wirst. Überprüfe deine Vorhersage anschließend, indem du den Code erneut startest."
   ]
  },
  {
   "cell_type": "code",
   "execution_count": null,
   "metadata": {},
   "outputs": [],
   "source": [
    "# Fragt nach einer Anzahl und speichert diese in die Variable \"amount\".\n",
    "amount = int(input('Gib an, wie viel Daten verwendet werden sollen: '))\n",
    "\n",
    "# Überprüfung, ob die eingegebene Zahl die Anzahl der Daten übersteigt.\n",
    "# Wenn nicht, selektiere die Anzahl an Invarianten Massen aus der Variable \"invariant_mass\".\n",
    "# Die Invarianten Massen werden in der gespeicherten Reihenfolge selektiert.\n",
    "if amount > 10851:\n",
    "    print('''Du hast versucht mehr Daten auszuwählen, als in der Datei verfügbar sind.\n",
    "             Das Histogramm konnte nicht erstellt werden. Die maximale Anzahl beträgt 10851.''')\n",
    "else:\n",
    "    for f in range(amount):\n",
    "        M = invariant_mass[f]\n",
    "        selected.append(M)\n",
    "    print('\\n Du hast {} Werte der Invarianten Masse aus dem Datensatz ausgewählt.'.format(amount))\n",
    "\n",
    "# Jupyter Notebook benutzt \"magic functions\". \n",
    "# Damit ist es möglich, das Histogramm direkt ins notebook zu plotten.\n",
    "%matplotlib inline\n",
    "\n",
    "# Erstelle das Histogramm aus den Daten der Variable \"selected\".\n",
    "# Setze bins und range für das Histogramm.\n",
    "plt.hist(selected, bins=120, range=(60,120))\n",
    "\n",
    "# Setze y-Achse von 0 bis 800.\n",
    "axes = plt.gca()\n",
    "axes.set_ylim([0,800])\n",
    "\n",
    "# Bennenen von Achsen und Überschrift.\n",
    "plt.xlabel('Invariante Masse [GeV]')\n",
    "plt.ylabel('Anzahl der Ereignisse')\n",
    "plt.title('Histogramm der Invarianten Massen von zwei Muonen\\n')\n",
    "\n",
    "# Leere die Variable \"selected\" für den nächsten Durchlauf.\n",
    "selected = []"
   ]
  },
  {
   "cell_type": "markdown",
   "metadata": {},
   "source": [
    "### 3) Entwicklung des Histogramms, wenn die Anzahl der Daten zunimmt"
   ]
  },
  {
   "cell_type": "markdown",
   "metadata": {},
   "source": [
    "Schauen wir uns eine Reihe von Bildern an, wie sich das Histogramm ändert, wenn die Anzahl verwendeter Daten anwächst.\n",
    "\n",
    "Der Code unten erstellt 11 unterschiedliche Histogramme der Invarianten Masse aus den selben Daten. Zwischen jedem Bild werden dem Histogramm 1000 weitere Werte der Invarianten Masse hinzugefügt. Starte den Code indem du zunächst die Zelle durch einen Mausklick aktivierst und dann die Tasten _CTRL_ + _Enter_ drückst. Untersuche die Bilder und erkläre, was du siehst."
   ]
  },
  {
   "cell_type": "code",
   "execution_count": null,
   "metadata": {},
   "outputs": [],
   "source": [
    "# Schleife, die alle 1000 Ereignisse ein neues Histogramm plottet, bis 10000 erreicht sind.\n",
    "for a in range(0,10851,1000):\n",
    "    T = invariant_mass[0:a]\n",
    "    \n",
    "    %matplotlib inline\n",
    "    plt.hist(T, bins=120, range=(60,120))\n",
    "    \n",
    "    # Setze y-Achse von 0 bis 800.\n",
    "    axes = plt.gca()\n",
    "    axes.set_ylim([0,800])\n",
    "    \n",
    "    # Bennenen von Achsen und Überschrift.\n",
    "    plt.xlabel('Invariante Masse [GeV]')\n",
    "    plt.ylabel('Anzahl der Ereignisse')\n",
    "    plt.title('Histogramm der Invarianten Massen von zwei Muonen\\n')\n",
    "    plt.show()"
   ]
  },
  {
   "cell_type": "code",
   "execution_count": null,
   "metadata": {
    "collapsed": true
   },
   "outputs": [],
   "source": []
  }
 ],
 "metadata": {
  "kernelspec": {
   "display_name": "Python 3",
   "language": "python",
   "name": "python3"
  },
  "language_info": {
   "codemirror_mode": {
    "name": "ipython",
    "version": 3
   },
   "file_extension": ".py",
   "mimetype": "text/x-python",
   "name": "python",
   "nbconvert_exporter": "python",
   "pygments_lexer": "ipython3",
   "version": "3.6.1"
  }
 },
 "nbformat": 4,
 "nbformat_minor": 1
}
